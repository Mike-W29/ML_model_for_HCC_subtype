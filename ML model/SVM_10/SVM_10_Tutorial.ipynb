{
 "cells": [
  {
   "cell_type": "markdown",
   "id": "a8f23a27",
   "metadata": {},
   "source": [
    "# Step 1\n",
    "In your Python environment, you should have at least installed the following packages: joblib, numpy, pandas, and scikit-learn. Generally, we recommend installing the Anaconda3 environment as it includes these commonly used data science packages. **Please ensure that the model file \"SVM_model.joblib\" is located in the same folder as the code you intend to execute.**"
   ]
  },
  {
   "cell_type": "markdown",
   "id": "a05e546b",
   "metadata": {},
   "source": [
    "# Step 2 Load package"
   ]
  },
  {
   "cell_type": "code",
   "execution_count": null,
   "id": "80bb28a5",
   "metadata": {},
   "outputs": [],
   "source": [
    "import joblib\n",
    "import numpy as np\n",
    "import pandas as pd\n",
    "import os"
   ]
  },
  {
   "cell_type": "markdown",
   "id": "3c2365a2",
   "metadata": {},
   "source": [
    "# Step 3 Run the following code\n",
    "\n",
    "Please directly execute the following code, which consists of two parts: \"data_processing\" for data processing function, and \"model_prediction\" for data prediction function."
   ]
  },
  {
   "cell_type": "code",
   "execution_count": null,
   "id": "d84c0554",
   "metadata": {},
   "outputs": [],
   "source": [
    "def data_processing(filepath,\n",
    "                    log2 = True):\n",
    "\n",
    "    print('Please note that the input data should be for these 10 genes \\n'\n",
    "          '(ARHGAP11A, CHAF1B, DEPDC1B, ECT2, GINS1, GTSE1, LMNB1, MYBL2, RFC4, TTK), \\n'\n",
    "          'RNA expression TPM values. By default, it will undergo lo2 processing. \\n'\n",
    "          'If the data you input has already undergone log2 processing.\\n'\n",
    "          ' Please select the parameter log2=FALSE')\n",
    "    # read CSV file\n",
    "    df = pd.read_csv(filepath,index_col=0)\n",
    "    Gene = ['ARHGAP11A',\n",
    "            'CHAF1B',\n",
    "            'DEPDC1B',\n",
    "            'ECT2',\n",
    "            'GINS1',\n",
    "            'GTSE1',\n",
    "            'LMNB1',\n",
    "            'MYBL2',\n",
    "            'RFC4',\n",
    "            'TTK']\n",
    "    df_index_list = df.index.map(str).tolist()\n",
    "\n",
    "    if  all(elem in df_index_list for elem in Gene):\n",
    "        df = df.loc[Gene]\n",
    "    else:\n",
    "        raise ValueError(\"Classification genes were not detected in the data.\\n\"\n",
    "                         \" Please check if the data contains classification genes\")\n",
    "    df = df.reindex(Gene)\n",
    "    if log2 == True:\n",
    "        df = np.log2(df + 1)\n",
    "    m = np.nanmean(df, axis=1)\n",
    "    s = np.nanstd(df, axis=1)\n",
    "    df = (df - m[:, np.newaxis]) / s[:, np.newaxis]\n",
    "    result = df.T\n",
    "    return result\n",
    "\n",
    "def model_prediction(data,outputpath,outpultfilename):\n",
    "    SVM_model = joblib.load('SVM_model.joblib')\n",
    "    # The probability of labeling the predicted sample\n",
    "    y_pred_proba = SVM_model.predict_proba(data)\n",
    "    # The probability of extracting a prediction as CLASS A and CLASS B\n",
    "    proba_class_a = y_pred_proba[:, 0]\n",
    "    proba_class_b = y_pred_proba[:, 1]\n",
    "    # The labels of the predicted samples\n",
    "    y_pred_labels = SVM_model.predict(data)\n",
    "    # Create a DataFrame containing the prediction results\n",
    "    result_df = pd.DataFrame({\n",
    "        'Sample': data.index,  \n",
    "        'Probability_ClassA': proba_class_a,\n",
    "        'Probability_ClassB': proba_class_b,\n",
    "        'Prediction': y_pred_labels\n",
    "    })\n",
    "    # Save the resulting DataFrame to a CSV file\n",
    "    outputpath = os.path.join(outputpath, outpultfilename) \n",
    "    result_df.to_csv(outputpath, index=False)\n"
   ]
  },
  {
   "cell_type": "markdown",
   "id": "f164782b",
   "metadata": {},
   "source": [
    "# Step4 Define file input and output paths\n",
    "Please convert your expression matrix to .csv format, where rows represent Gene Symbols and columns represent samples. Assign the file path of this .csv file to \"input_data_path\". Specify the path where you want to save the result file in \"output_path\". Define the name of the result file in \"output_filename\". Please note that the data format used for model training is log2(TPM+1). To ensure more accurate results, your data should ideally be in TPM format and transformed using log2. If your data has not been log2-transformed, please set log2 = TRUE in the \"data_processing\" function.\n"
   ]
  },
  {
   "cell_type": "code",
   "execution_count": null,
   "id": "79f43a14",
   "metadata": {},
   "outputs": [],
   "source": [
    "if __name__ == \"__main__\":\n",
    "    # Enter the gene expression matrix path below\n",
    "    input_data_path = '~test_data.csv'\n",
    "    # Please enter the path to save the written file\n",
    "    output_path = '~'\n",
    "    # Please define the result file save name below\n",
    "    outpultfilename = 'Subtype_result.csv'\n",
    "    data = data_processing(filepath=input_data_path,log2=False)\n",
    "    print(data)\n",
    "    model_prediction(data,outputpath = output_path,outpultfilename = outpultfilename)"
   ]
  }
 ],
 "metadata": {
  "kernelspec": {
   "display_name": "Python 3 (ipykernel)",
   "language": "python",
   "name": "python3"
  },
  "language_info": {
   "codemirror_mode": {
    "name": "ipython",
    "version": 3
   },
   "file_extension": ".py",
   "mimetype": "text/x-python",
   "name": "python",
   "nbconvert_exporter": "python",
   "pygments_lexer": "ipython3",
   "version": "3.9.12"
  }
 },
 "nbformat": 4,
 "nbformat_minor": 5
}
